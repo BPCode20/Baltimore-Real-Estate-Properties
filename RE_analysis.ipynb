{
 "cells": [
  {
   "cell_type": "markdown",
   "source": [
    "# Baltimore Housing Exploration\n",
    "\n",
    "\n",
    "### Objective\n",
    "Baltimore City has a very diverse and unequal housing situation. In this analysis I want to explore the following points:\n",
    "    - Who is investing in which parts of the city?\n",
    "    - What are the most expensive areas and do they overlap with crime?\n",
    "    - Which parts of the city are owned by people living in their properties, which parts are investments/rentals?\n",
    "    - What are the most areas where value is increasing the most?\n",
    "    - What is the deal with vaccant properties? Where are they located and who owns them?\n",
    " \n",
    "   \n",
    "### Data \n",
    "I use open data provided by the City of Baltimore. There is not a single source of metadata and many labels lack of explanation. There is further information and links about the data sources in the README.md\n"
   ],
   "metadata": {
    "collapsed": false
   },
   "id": "2d5aec0a7695e4d8"
  },
  {
   "cell_type": "markdown",
   "source": [
    "First, we will import packages and load the downloaded data stored within the 'data/' folder. As we have the data stored in '.geojson' format, we will access 'features' section of the loaded json-file.  We will define some static variables."
   ],
   "metadata": {
    "collapsed": false
   },
   "id": "c15bf784cce1f851"
  },
  {
   "cell_type": "code",
   "execution_count": 1,
   "outputs": [],
   "source": [
    "import json\n",
    "from collections import Counter\n",
    "from area import area\n",
    "import folium"
   ],
   "metadata": {
    "collapsed": false,
    "ExecuteTime": {
     "end_time": "2024-03-12T18:42:46.639553Z",
     "start_time": "2024-03-12T18:42:40.527508Z"
    }
   },
   "id": "initial_id"
  },
  {
   "cell_type": "code",
   "execution_count": 2,
   "outputs": [],
   "source": [
    "FEAT = 'features'\n",
    "PROP = 'properties'\n",
    "OWNERS = 'OWNERS'\n",
    "IS_VACANT = 'VACIND'\n",
    "CURRENT_LAND_PRICE = 'CURRLAND'\n",
    "GROUND_AREA = 'GROUND_AREA_IN_M_2'\n",
    "\n",
    "EPSG = 4326"
   ],
   "metadata": {
    "collapsed": false,
    "ExecuteTime": {
     "end_time": "2024-03-12T18:43:03.782151Z",
     "start_time": "2024-03-12T18:43:03.757150Z"
    }
   },
   "id": "2f110f96b3c36a4f"
  },
  {
   "cell_type": "code",
   "execution_count": 3,
   "outputs": [],
   "source": [
    "with open('data/Real_Property_Information.geojson') as f:\n",
    "    d = json.load(f)\n",
    "building_properties = d[FEAT]"
   ],
   "metadata": {
    "collapsed": false,
    "ExecuteTime": {
     "end_time": "2024-03-12T18:43:19.231386Z",
     "start_time": "2024-03-12T18:43:04.622842Z"
    }
   },
   "id": "dcaa2ab22f001efb"
  },
  {
   "cell_type": "code",
   "execution_count": 29,
   "outputs": [],
   "source": [
    "# del d[FEAT]"
   ],
   "metadata": {
    "collapsed": false,
    "ExecuteTime": {
     "end_time": "2024-03-12T19:37:56.968472Z",
     "start_time": "2024-03-12T19:37:56.960923Z"
    }
   },
   "id": "cb5f959cfbd9640"
  },
  {
   "cell_type": "code",
   "execution_count": 31,
   "outputs": [
    {
     "data": {
      "text/plain": "{'type': 'name', 'properties': {'name': 'urn:ogc:def:crs:OGC:1.3:CRS84'}}"
     },
     "execution_count": 31,
     "metadata": {},
     "output_type": "execute_result"
    }
   ],
   "source": [
    "CRS = d['crs']"
   ],
   "metadata": {
    "collapsed": false,
    "ExecuteTime": {
     "end_time": "2024-03-12T19:38:46.510959Z",
     "start_time": "2024-03-12T19:38:46.496496Z"
    }
   },
   "id": "7aa24bd163f6185a"
  },
  {
   "cell_type": "markdown",
   "source": [
    "Lets take a closer look at the data:\n",
    "AR_OWNER = H-> principle residence of owner (exclusive owned), D -> Partially used from user, N -> not primary residence by owner \n",
    "VACIND = vaccancy indicator\n",
    "ZONECODE = indicating what type of buildings are allowed in this area\n",
    "MAILTOADD = mail address for this property. That can be interesting to identify bigger organisations behind owners. E.g. a company might create and LLC for each of their properties that they are holding, but they use the same mail address for each one. \n",
    "\n",
    "build_feats holds a list with all property features that we are interested in. \n",
    "\n",
    "The OWNER property is split into three parts. We will aggregate them into one string. That will help us cleaning the data and find organisations that hold multiple properties. (e.g. 'MAYOR AND CITY COUNCIL OF BALTIMORE' and 'MAYOR AND CITY COUNCIL') "
   ],
   "metadata": {
    "collapsed": false
   },
   "id": "55a20d2d1bd29085"
  },
  {
   "cell_type": "code",
   "execution_count": 5,
   "outputs": [
    {
     "data": {
      "text/plain": "{'OBJECTID': 1,\n 'PIN': '0001001',\n 'PINRELATE': '0001001',\n 'BLOCKLOT': '0001 001',\n 'BLOCK': '0001 ',\n 'LOT': '001 ',\n 'WARD': '15',\n 'SECTION': '370',\n 'ASSESSOR': '329',\n 'TAXBASE': 168600,\n 'BFCVLAND': 10200,\n 'BFCVIMPR': 151600,\n 'LANDEXMP': 0,\n 'IMPREXMP': 0,\n 'CITYCRED': 0,\n 'STATCRED': 0.0,\n 'CCREDAMT': 0.0,\n 'SCREDAMT': 0,\n 'PERMHOME': 'N',\n 'ASSESGRP': '2',\n 'LOT_SIZE': '15-2X83-10        ',\n 'NO_IMPRV': None,\n 'CURRLAND': 10200,\n 'CURRIMPR': 161800,\n 'EXMPLAND': 0,\n 'EXMPIMPR': 0,\n 'FULLCASH': 0,\n 'EXMPTYPE': ' ',\n 'EXMPCODE': '00',\n 'USEGROUP': 'C ',\n 'ZONECODE': 'C-1  ',\n 'SDATCODE': '11135',\n 'ARTAXBAS': 165200,\n 'DISTSWCH': ' ',\n 'DIST_ID': ' ',\n 'STATETAX': 185.02,\n 'CITY_TAX': 3713.7,\n 'AR_OWNER': 'N',\n 'DEEDBOOK': 'MB 25915',\n 'DEEDPAGE': '0340',\n 'SALEDATE': '05222023',\n 'OWNER_ABBR': None,\n 'OWNER_1': 'NORTH AVE MARKET LLC             ',\n 'OWNER_2': '                                 ',\n 'OWNER_3': '                                 ',\n 'FULLADDR': '2045 W NORTH AVE',\n 'STDIRPRE': 'W',\n 'ST_NAME': 'NORTH                    ',\n 'ST_TYPE': 'AVE ',\n 'BLDG_NO': 2045,\n 'FRACTION': ' ',\n 'UNIT_NUM': '      ',\n 'SPAN_NUM': 0,\n 'SPANFRAC': ' ',\n 'ZIP_CODE': '21217',\n 'EXTD_ZIP': '1221',\n 'DHCDUSE1': '3052',\n 'DHCDUSE2': '0000',\n 'DHCDUSE3': '0000',\n 'DHCDUSE4': '0000',\n 'DWELUNIT': 1,\n 'EFF_UNIT': 0,\n 'ROOMUNIT': 0,\n 'RPDELTAG': ' ',\n 'RESPAGCY': '  ',\n 'SALEPRIC': 250000,\n 'PROPDESC': '                         ',\n 'NEIGHBOR': 'EASTERWOOD                               ',\n 'SRVCCNTR': '7',\n 'YEAR_BUILD': 1920,\n 'STRUCTAREA': 4344,\n 'LDATE': '01282024',\n 'OWNMDE': 'F',\n 'GRNDRENT': 0,\n 'SUBTYPE_GEODB': 1,\n 'SDATLINK': 'http://sdat.dat.maryland.gov/realproperty/pages/viewdetails.aspx?County=03&SearchType=ACCT&Ward=15&SECTION=37&BLOCK=0001&LOT=001 ',\n 'BLOCKPLAT': 'https://gis.baltimorecity.gov/zoning/blockplats/0001.pdf',\n 'MAILTOADD': '1639 MORELAND AVE, 21216',\n 'VACIND': None}"
     },
     "execution_count": 5,
     "metadata": {},
     "output_type": "execute_result"
    }
   ],
   "source": [
    "build_feats = ['OBJECTID', 'BLOCK', 'LOT', 'TAXBASE', 'BFCVLAND', 'BFCVIMPR', 'PERMHOME', 'CURRLAND', 'CURRIMPR',\n",
    "               'USEGROUP', 'AR_OWNER', 'OWNER_ABBR', 'STDIRPRE', 'FULLADDR', 'SALEPRIC', 'NEIGHBOR', 'YEAR_BUILD',\n",
    "               'LOT_SIZE', 'VACIND', 'MAILTOADD', 'ZIP_CODE']\n",
    "collapse_owner = ['OWNER_1', 'OWNER_2', 'OWNER_3']\n",
    "\n",
    "building_properties[0][PROP]"
   ],
   "metadata": {
    "collapsed": false,
    "ExecuteTime": {
     "end_time": "2024-03-12T18:44:00.633691Z",
     "start_time": "2024-03-12T18:44:00.597645Z"
    }
   },
   "id": "ca47eea72b8a14d4"
  },
  {
   "cell_type": "markdown",
   "source": [
    "We will take a look into organisations and created a list to identify companies: "
   ],
   "metadata": {
    "collapsed": false
   },
   "id": "7263dabfe036cfe9"
  },
  {
   "cell_type": "code",
   "execution_count": 6,
   "outputs": [],
   "source": [
    "company_indicators = ['LLC', 'TRUST', 'COMPANY', 'ENTERPRISE', 'INC', 'CORPORATION', 'LIMITED', 'PROPERTIES']"
   ],
   "metadata": {
    "collapsed": false,
    "ExecuteTime": {
     "end_time": "2024-03-12T18:45:41.596100Z",
     "start_time": "2024-03-12T18:45:41.575387Z"
    }
   },
   "id": "a52a8b7e7d5376d1"
  },
  {
   "cell_type": "markdown",
   "source": [
    "After a first gimplse into our dataset, lets start with cleaning the data:\n",
    "\n"
   ],
   "metadata": {
    "collapsed": false
   },
   "id": "8b562e4bf700cf2d"
  },
  {
   "cell_type": "code",
   "execution_count": 7,
   "outputs": [],
   "source": [
    "housing_feat = []\n",
    "\n",
    "for p in building_properties:\n",
    "    building = {}\n",
    "    b = p[PROP]\n",
    "    owners = []\n",
    "    for o in collapse_owner:\n",
    "        o_raw = str(b[o]).strip()\n",
    "        if o_raw != '':\n",
    "            owners.append(o_raw)\n",
    "    building[OWNERS] = owners\n",
    "    building[GROUND_AREA] = area(p['geometry'])\n",
    "    for k in build_feats:\n",
    "        building[k] = b[k]\n",
    "    housing_feat.append(building)"
   ],
   "metadata": {
    "collapsed": false,
    "ExecuteTime": {
     "end_time": "2024-03-12T18:45:53.419892Z",
     "start_time": "2024-03-12T18:45:47.721609Z"
    }
   },
   "id": "8e5045b3a884b258"
  },
  {
   "cell_type": "code",
   "execution_count": 8,
   "outputs": [
    {
     "data": {
      "text/plain": "[{'OWNERS': ['NORTH AVE MARKET LLC'],\n  'GROUND_AREA_IN_M_2': 109.22893045936353,\n  'OBJECTID': 2,\n  'BLOCK': '0001 ',\n  'LOT': '002 ',\n  'TAXBASE': 49500,\n  'BFCVLAND': 7000,\n  'BFCVIMPR': 42500,\n  'PERMHOME': 'N',\n  'CURRLAND': 7000,\n  'CURRIMPR': 42500,\n  'USEGROUP': 'C ',\n  'AR_OWNER': 'N',\n  'OWNER_ABBR': None,\n  'STDIRPRE': 'W',\n  'FULLADDR': '2043 W NORTH AVE',\n  'SALEPRIC': 250000,\n  'NEIGHBOR': 'EASTERWOOD                               ',\n  'YEAR_BUILD': 0,\n  'LOT_SIZE': '14X83-10          ',\n  'VACIND': None,\n  'MAILTOADD': '1639 MORELAND AVE, 21216'},\n {'OWNERS': ['NEW YORK INC'],\n  'GROUND_AREA_IN_M_2': 110.55207606655262,\n  'OBJECTID': 3,\n  'BLOCK': '0001 ',\n  'LOT': '003 ',\n  'TAXBASE': 9000,\n  'BFCVLAND': 3000,\n  'BFCVIMPR': 8000,\n  'PERMHOME': 'N',\n  'CURRLAND': 2000,\n  'CURRIMPR': 7000,\n  'USEGROUP': 'R ',\n  'AR_OWNER': 'N',\n  'OWNER_ABBR': None,\n  'STDIRPRE': 'W',\n  'FULLADDR': '2041 W NORTH AVE',\n  'SALEPRIC': 0,\n  'NEIGHBOR': 'EASTERWOOD                               ',\n  'YEAR_BUILD': 1915,\n  'LOT_SIZE': '14X83-10          ',\n  'VACIND': 'Y',\n  'MAILTOADD': 'SUITE 201, 21208'},\n {'OWNERS': ['MUHAMMAD, ANNA AVON'],\n  'GROUND_AREA_IN_M_2': 111.76302283652583,\n  'OBJECTID': 4,\n  'BLOCK': '0001 ',\n  'LOT': '004 ',\n  'TAXBASE': 9000,\n  'BFCVLAND': 3000,\n  'BFCVIMPR': 8000,\n  'PERMHOME': 'N',\n  'CURRLAND': 2000,\n  'CURRIMPR': 7000,\n  'USEGROUP': 'R ',\n  'AR_OWNER': 'N',\n  'OWNER_ABBR': None,\n  'STDIRPRE': 'W',\n  'FULLADDR': '2039 W NORTH AVE',\n  'SALEPRIC': 0,\n  'NEIGHBOR': 'EASTERWOOD                               ',\n  'YEAR_BUILD': 1920,\n  'LOT_SIZE': '14X83-10          ',\n  'VACIND': 'Y',\n  'MAILTOADD': '9726 MENDOZA RD RANDALLSTOWN, MD, 21133'},\n {'OWNERS': ['WHITE CARR DEVELOPMENT GROUP,', 'LLC, THE'],\n  'GROUND_AREA_IN_M_2': 102.94484110519934,\n  'OBJECTID': 5,\n  'BLOCK': '0001 ',\n  'LOT': '005 ',\n  'TAXBASE': 61067,\n  'BFCVLAND': 4000,\n  'BFCVIMPR': 19000,\n  'PERMHOME': 'N',\n  'CURRLAND': 16000,\n  'CURRIMPR': 64100,\n  'USEGROUP': 'R ',\n  'AR_OWNER': 'N',\n  'OWNER_ABBR': None,\n  'STDIRPRE': 'W',\n  'FULLADDR': '2037 W NORTH AVE',\n  'SALEPRIC': 70000,\n  'NEIGHBOR': 'EASTERWOOD                               ',\n  'YEAR_BUILD': 1920,\n  'LOT_SIZE': '14X83-10          ',\n  'VACIND': None,\n  'MAILTOADD': '2601 PENNSYLVANIA AVE, 21217'}]"
     },
     "execution_count": 8,
     "metadata": {},
     "output_type": "execute_result"
    }
   ],
   "source": [
    "housing_feat[1:5]"
   ],
   "metadata": {
    "collapsed": false,
    "ExecuteTime": {
     "end_time": "2024-03-12T18:46:14.697607Z",
     "start_time": "2024-03-12T18:46:14.680898Z"
    }
   },
   "id": "cc8bf022fa854b35"
  },
  {
   "cell_type": "code",
   "execution_count": 9,
   "outputs": [],
   "source": [
    "def clean_owners_str(list_of_owners):\n",
    "    # String clean up, some whitespaces are missing\n",
    "    str_owners = ' '.join(list_of_owners)\n",
    "    str_owners = str_owners.replace('  ', ' ')\n",
    "    str_owners = str_owners.replace('.', '')\n",
    "    str_owners = str_owners.replace('&', 'AND')\n",
    "    # occationally 'THE' is used for public authorities\n",
    "    str_owners = str_owners.replace(', THE', '')\n",
    "    str_owners = str_owners.replace('THE', '')\n",
    "    return str_owners.replace('MAYOR AND CITY COUNCIL OF BALTIMORE', 'MAYOR AND CITY COUNCIL')\n",
    "\n",
    "# \n",
    "# def convert_acers_to_meters(area_in_acers):\n",
    "#     return area_in_acers * 4047\n",
    "# \n",
    "# \n",
    "# def convert_sqft_to_meters(area_in_sqft):\n",
    "#     return area_in_sqft * 10.764\n",
    "# \n",
    "# \n",
    "# def calculate_area_from_X(value_str):\n",
    "#     a_b = value_str.split('X')\n",
    "#     if len(a_b) > 2:\n",
    "#         return 0\n",
    "#     a = a_b[0].split('-')\n",
    "#     a = '.'.join(a)\n",
    "#     b = a_b[1].split('-')\n",
    "#     b = '.'.join(b)\n",
    "#     area_in_sq_ft = float(a) * float(b)\n",
    "#     return area_in_sq_ft\n",
    "# \n",
    "# \n",
    "# SQ_FT = 'SQ_FT'\n",
    "# ACRES = 'A'\n",
    "# UNDEFINED = None\n",
    "# \n",
    "# def map_units(unit_name:str) -> str:\n",
    "#     UNITS = {\n",
    "#         'S.F.': SQ_FT,\n",
    "#         'S. F.': SQ_FT,\n",
    "#         'SQ FT': SQ_FT,\n",
    "#         'SF': SQ_FT,\n",
    "#         'SQ. FT.': SQ_FT,\n",
    "#         'SQFT': SQ_FT,\n",
    "#         'SQ.FT.': SQ_FT,\n",
    "#         'SF.': SQ_FT,\n",
    "#         'ACRES': ACRES,\n",
    "#         'ACRE': ACRES,\n",
    "#         'AC': ACRES\n",
    "#     }\n",
    "#     unit_name = unit_name.strip()\n",
    "#     return UNITS.get(unit_name, unit_name)\n",
    "# \n",
    "# \n",
    "# def calculate_lot_size(lot_str):\n",
    "#     lot = lot_str.upper()\n",
    "#     lot = lot.replace('S.F.', 'SQ FT')\n",
    "#     if 'X' in lot:\n",
    "#         return calculate_area_from_X(lot)\n",
    "#     lot = map_units(lot)\n",
    "#     try:\n",
    "#         if 'ACRES' in lot or 'ACRE' in lot:\n",
    "#             lot = lot.replace('ACRES', '')\n",
    "#             lot = lot.replace('ACRE', '')\n",
    "#             lot = lot.replace('O', '0')\n",
    "#             lot = lot.replace('-', '.')\n",
    "#             lot = lot.replace(' ', '')\n",
    "#             return convert_acers_to_meters(float(lot.strip()))\n",
    "#         elif 'X' in lot:\n",
    "#             return calculate_area_from_X(lot)\n",
    "#         elif 'SQ FT' in lot or 'SQFT' in lot:\n",
    "#             lot = lot.replace('SQ FT', '')\n",
    "#             lot = lot.replace('SQFT', '')\n",
    "#             lot = lot.replace(',', '')\n",
    "#             return convert_sqft_to_meters(float(lot.strip()))\n",
    "#         else:\n",
    "#             print(lot)\n",
    "#             return 0\n",
    "#     except ValueError:\n",
    "#         print('Error at: ' + lot)\n",
    "#         return 0"
   ],
   "metadata": {
    "collapsed": false,
    "ExecuteTime": {
     "end_time": "2024-03-12T18:46:24.932169Z",
     "start_time": "2024-03-12T18:46:24.917694Z"
    }
   },
   "id": "6af401b9ae0ea4ca"
  },
  {
   "cell_type": "code",
   "execution_count": 10,
   "outputs": [],
   "source": [
    "def convert_vacant(vacant_str):\n",
    "    if vacant_str:\n",
    "        return vacant_str == 'Y'\n",
    "    return None"
   ],
   "metadata": {
    "collapsed": false,
    "ExecuteTime": {
     "end_time": "2024-03-12T18:46:26.125583Z",
     "start_time": "2024-03-12T18:46:26.111783Z"
    }
   },
   "id": "afd5ee618802013e"
  },
  {
   "cell_type": "code",
   "execution_count": 11,
   "outputs": [],
   "source": [
    "owners_list = []\n",
    "single_str_owners = []\n",
    "for house in housing_feat:\n",
    "    owner = clean_owners_str(house[OWNERS])\n",
    "    single_str_owners.append(owner)\n",
    "    house[OWNERS] = owner\n",
    "    house['SQ_M_PRICE'] = house[CURRENT_LAND_PRICE] / house[GROUND_AREA]\n",
    "    house[IS_VACANT] = convert_vacant(house[IS_VACANT])\n",
    "    # house['m_2'] = calculate_lot_size(house['LOT_SIZE'])"
   ],
   "metadata": {
    "collapsed": false,
    "ExecuteTime": {
     "end_time": "2024-03-12T18:46:27.401729Z",
     "start_time": "2024-03-12T18:46:26.858526Z"
    }
   },
   "id": "35d6e3803c9ad90d"
  },
  {
   "cell_type": "code",
   "execution_count": 12,
   "outputs": [],
   "source": [
    "sorted_owners = sorted(Counter(single_str_owners).items(), key=lambda i: i[1], reverse=True)"
   ],
   "metadata": {
    "collapsed": false,
    "ExecuteTime": {
     "end_time": "2024-03-12T18:46:28.938215Z",
     "start_time": "2024-03-12T18:46:28.846822Z"
    }
   },
   "id": "bb9723c312b92dcf"
  },
  {
   "cell_type": "code",
   "execution_count": 13,
   "outputs": [
    {
     "data": {
      "text/plain": "[('MAYOR AND CITY COUNCIL', 10357),\n ('HOUSING AUTHORITY OF BALTIMORE CITY', 1459),\n ('ARMISTEAD HOMES CORP', 686),\n ('STATE OF MARYLAND', 510),\n ('INSULATOR DRIVE, LLC', 366),\n ('CSX TRANSPORTATION, INC', 233),\n ('BALTIMORE SFR PORTFOLIO I, LLC', 228),\n ('BALTIMORE SFR PORTFOLIO 1A, LLC', 208),\n ('BALTIMORE AFFORDABLE HOUSING DEVELOPMENT, INC', 194),\n ('MASS TRANSIT ADMINISTRATION', 168),\n ('NATIONAL RAILROAD PASSENGER CORPORATION', 154),\n ('MERRITT-HA1, LLC', 146),\n (\"BELT'S LANDING, A CONDOMINIUM, INCORPORATED\", 145),\n ('JOHNS HOPKINS UNIVERSITY', 144),\n ('MARYLAND HEALTH SYSTEMS, INC', 141),\n ('MADISON PARK NORTH LLC', 136),\n ('RF2, LLC', 129),\n ('BALTIMORE SFR PORTFOLIO 1B, LLC', 125),\n ('DEERA LLC', 114),\n ('DIVERSIFIED RESIDENTIAL HOMES 2, LLC', 107),\n ('FLAG HOUSE RENTAL I, LP', 102),\n ('EGBE VENTURES LLC', 95),\n ('UNIVERSITY OF MARYLAND MIDTOWN HEALTH, INC', 86),\n ('LEVY VENTURES LLC', 84),\n ('WALL STREET PROPERTIES, LLC', 83),\n ('SKYBALT HOLDINGS, LLC', 80),\n ('BALTIMORE EXCEL 02 LLC', 78),\n ('HAVEN ROCK, LLC', 72),\n ('BARCLAY GREENMOUNT NSA LIMITED PARTNERSHIP', 71),\n ('CASTLE STREET DEVELOPMENT, LLC', 67),\n ('LOYOLA COLLEGE IN MARYLAND, INC', 66),\n ('HC-BALTIMORE, LLC', 62),\n ('ALPHA DEVELOPMENT COMPANY', 59),\n ('BALTIMORE SFR PORTFOLIO IV, LLC', 58),\n ('FPBC LLC', 57),\n ('VSP ORLANDO LLC', 56),\n ('2008 DRR-ETS, LLC', 55),\n ('ST AMBROSE HOUSING AID CENTER, INC', 55),\n ('BALTIMORE EXCEL 03 LLC', 54),\n ('LPR X, LLC', 54),\n ('KOSOY, GARY', 54),\n ('SHELBY COMPANY LLC', 53),\n ('BALTIMORE SFR PORTFOLIO 1C, LLC', 53),\n ('RPS 56, LLC', 53),\n ('ZAHAV VENTURES LLC', 51),\n ('FEDERAL NATIONAL MORTGAGE ASSOCIATION', 50),\n ('TRF DEVELOPMENT PARTNERS-OLIVER, LLC', 50),\n ('BON SECOURS APARTMENTS CONSOLIDATED LIMITED PARTNERSHIP', 49),\n ('PENNSYLVANIA LINES LLC', 49),\n ('RAK HOLDINGS #1, LLC', 48),\n ('MARY HARVIN TRANSFORMATION CENTER COMMUNITY DEVELOPMENT CORPORATION', 48),\n ('GREATER BALTIMORE HOMES LLC', 47),\n ('REAL ESTATE ENTERPRISES, LLC', 47),\n ('CR OF MARYLAND I, LLC', 46),\n ('GREENBRIAR REALTY CORP', 46),\n ('BALTIMORE EXCEL 04, LLC', 45),\n ('BALTIMORE RES FUND I, LLC', 44),\n ('JACKS HOLDINGS LLC', 44),\n ('UPWARD AMERICA SOUAST PROPERTY OWNER, LP', 44),\n ('YS ESTATES LLC', 42),\n ('SHELBY COMPANY 2 LLC', 41),\n ('ESHELMAN, JONAS', 41),\n ('UNITY PROPERTIES, INC', 40),\n ('JOHNSTON TOWNS LLC', 40),\n ('BALTIMORE SFR PORTFOLIO VI, LLC', 39),\n ('EAST BALTIMORE HISTORIC III, LLC', 39),\n ('BALTIMORE EXCEL 04 LLC', 38),\n ('BALTIMORE EXCEL 03, LLC', 38),\n ('BALTIMORE EXCEL 01 LLC', 38),\n ('ROG LIMITED PARTNERSHIP', 38),\n ('SKYGC BORROWER, LLC', 38),\n ('BALTIMORE RES FUND 1, LLC', 37),\n ('BUILD IT BACK LLC', 37),\n ('E14C LLC', 37),\n ('BALT-PROPERTIES, LLC', 36),\n ('BALTIMORE EXCEL 01, LLC', 36),\n ('HARBOR EAST PARCEL D - RESIDENTIAL, LLC', 36),\n ('CHARLOTTE BEVERLEE LLC', 36),\n ('SHELBY COMPANY 3 LLC', 35),\n ('DOMINION RENTAL HOLDINGS, LLC', 35),\n ('BRIGHTON DEVELOPMENT GROUP LLC', 35),\n ('PRESTON COMMUNITY DEVELOPMENT CORPORATION', 34),\n ('1301 EAST FORT AVENUE LLC', 34),\n ('SCHNADER ENTERPRISES, INC', 34),\n ('BALTIMORE EXCEL 05 LLC', 33),\n ('TIME ORGANIZATION LLC', 33),\n ('MEMORIAL DEVELOPMENT PARTNERS, LP', 33),\n ('EAST BALTIMORE HISTORIC I, LLC', 33),\n ('PENROSE EAST BALTIMORE RENTAL, LLC', 33),\n ('ROBINSON, JAMES G', 33),\n ('RIVERA, SAUL', 33),\n ('STONE HILLS LP', 33),\n ('BALTIMORE EXCEL S7, LLC', 32),\n ('RPC 900, LLC', 32),\n ('REBUILD METRO HOLDINGS, LLC', 32),\n ('OBLATE SISTERS OF PROVIDENCE OF  CITY OF BALTIMORE', 32),\n ('EAST BALTIMORE HISTORIC II, LLC', 32),\n ('RESERVOIR HILL HOUSING, LLC', 32),\n ('LOCH RAVEN INVESTMENTS, LLC', 32),\n ('BALTIMORE EXCEL 05, LLC', 31),\n ('PIGTOWN PORTFOLIO II, LLC', 31),\n ('DEERA, LLC', 31),\n ('GARDENVILLAGE REALTY CORP,', 31),\n ('HABITAT FOR HUMANITY OF  CHESAPEAKE, INC', 30),\n ('GRASSO, JOHN J', 30),\n ('DDC DEVELOPMENT, LLC', 30),\n ('HAMILTON FOREST, LLC', 30),\n ('DREAMHOUSE LLC', 30),\n ('GREENBRIAR REALTY CORPORATION', 30),\n ('CANN, JAMES E', 29),\n ('MARYLAND INSTITUTE', 29),\n ('MARYLAND JOCKEY CLUB OF BALTIMORE CITY, INC', 29),\n ('FLEET PROPERTIES II, LLC', 29),\n ('KONA PROPERTIES, LLC', 28),\n ('BALTIMORE EXCEL 02, LLC', 28),\n ('MACEDONIA BAPTIST CHURCH OF BALTIMORE CITY', 28),\n ('LIQUIDITY INVESTMENTS, LLC', 28),\n ('ST AMBROSE LIMITED PARTNERSHIP', 28),\n ('HARBOR EAST PARCEL B COMMERCIAL, LLC', 28),\n ('ATK INVESTMENTS, LLC', 27),\n ('GREENSPRING FALLS, LLC', 26),\n ('COMPOUND YIELD PLAY, LLC', 26),\n ('POPPLETON PARTNERS II, LP', 26),\n ('HAYNES PROPERTIES, INC', 26),\n ('CAPTAIN COVE PROPERTIES, LLC', 26),\n ('QUALITY PROPERTIES MANAGEMENT, LLC', 26),\n ('ASHBURTON WOODS, LLC', 26),\n ('APEX HOME BUYERS, LLC', 26),\n ('NEVADA SERIES PROPERTY, LLC', 26),\n ('CHARM CITY LAND TRUSTS, INC', 26),\n ('SUMMERFIELD INVESTMENT GROUP, LLC', 26),\n ('WINDSOR HOMES, LLC', 25),\n ('PATAMATT LLC', 25),\n ('GREENMOUNT 4, LLC', 25),\n ('KESWICK RUN, LLC', 25),\n ('GERMERSHAUSEN, ANITA', 25),\n ('LEVERAGE RE PARTNERS LLC', 25),\n ('JACKS HOLDINGS, LLC', 25),\n ('JMD RENTALS LLC', 25),\n ('REALTY MASTERMINDS, LLC', 25),\n ('MENS SANA INVESTORS LLC', 24),\n ('WINCHESTER POINT, LLC', 24),\n ('BALTIMORE SFR PORTFOLIO III LLC', 24),\n ('BALTIMORE RES FUND 1 LLC', 24),\n ('HOUSING AUTHORITY', 24),\n ('3545 OLD YORK ROAD, LLC', 24),\n ('BMAD HOLDINGS LLC', 24),\n ('TCB MARSHALL GARDENS LIMITED PARTNERSHIP', 24),\n ('RUTUS, LLC', 24),\n ('BALTO GAS ANDELECTRIC CO', 24),\n ('MMDL ENTERPRISES, LLC', 24),\n ('ORCHARD RIDGE RENTAL I, LLC', 24),\n ('CEDMONT NARROWS, LLC', 23),\n ('SHAH REAL ESTATE LLC', 23),\n (\"RIDGELY'S DELIGHT REAL ESTATE PROGRAM, LLC\", 23),\n ('DRUID HEIGHTS COMMUNITY DEVELOPMENT CORPORATION', 23),\n ('DRUID HILL ASSOCIATES', 23),\n ('1201 N CHARLES STREET ASSOCIATES, LLC', 23),\n ('RAGTIME ASSOCIATES, LLC', 23),\n ('ETTING STREET PROPERTIES EAST, LLC', 23),\n ('MCELDERRY CREEK, LLC', 22),\n ('ELLWOOD OAKS, LLC', 22),\n ('BEREA PARK, LLC', 22),\n ('CE REALTY, LLC', 22),\n ('B AND D PHASE III, LLC', 22),\n ('PIGTOWN PORTFOLIO, LLC', 22),\n ('MARYLAND GENERAL HOSPITAL, INC', 22),\n ('OLIVER HILLS, LLC', 22),\n ('GREAT BLACKS IN WAX MUSEUM, INC', 22),\n ('HERENA USA, LLC', 22),\n ('HARRIS, JEFFREY', 22),\n ('GREEKTOWN PROPERTIES, LLC', 22),\n ('LANDIS PROPERTIES II, LLC', 22),\n ('RWN-COLONNADE RESIDENTIAL PARKING LLC', 22),\n ('MELBOURNE REALTY CORP', 22),\n ('ORBIT TRUST HOUSING, LLC', 21),\n ('J AND J PARTNERSHIP, INC', 21),\n ('BOLTON MEADOWS, LLC', 21),\n ('SECRETARY OF HOUSING AND URBAN DEVELOPMENT', 21),\n ('BALTIMORE RETURN FUND, LLC', 21),\n ('DOLFIELD VILLAGE, LLC', 21),\n ('EDMONDSON FARMS, LLC', 21),\n ('GUNPOWDER REALTY LLC', 21),\n ('SHAH REAL ESTATE, LLC', 21),\n ('SHELBY COMPANY 2, LLC', 21),\n ('COSMO COMPANY', 21),\n ('BALTIMORE SFR PORTFOLIO III, LLC', 20),\n ('FPBC, LLC', 20),\n ('MOSHER RIDGE, LLC', 20),\n ('COMFORT SOURCE, LLC', 20),\n ('MONUMENTAL DEVELOPMENT LLC', 20),\n ('BRUCE STREET LIMITED PARTNERSHIP', 20),\n ('BALTIMORE GREEN SPACE: A LAND TRUST FOR COMMUNITY-MANAGED OPEN SPACE, INC',\n  20),\n ('FRANKFORD ESTATES, LLC', 20),\n ('WESTERN GARAGES INC', 20),\n ('JENKINS, CHARLES', 20),\n ('HARBORVIEW LIMITED PARTNERSHIP NO 3', 20),\n ('MCHENRY POINT HOMEOWNERS ASSOCIATION, INC', 20),\n ('LPR X LLC', 20),\n ('QUASAR PROPERTIES, LLC', 20),\n ('FLUIDITY INVESTMENTS, LLC', 19),\n ('BALTIMORE FINANCIAL PROPERTIES, LLC', 19),\n ('PATAMATT, LLC', 19),\n ('SPP, LLC', 19),\n ('MC ONE HOLDINGS LLC', 19),\n ('PP BALTIMORE 6, LLC', 19),\n ('FALLS HILL HOLDINGS, LLC', 19),\n ('MCNEIL, KEVIN', 19),\n ('KREISLER, SANFORD', 18),\n ('BALDWIN TRUSTEE, LEROY', 18),\n ('DARE DEVELOPMENT, LLC', 18),\n ('BULLDOG PENROSE, LLC', 18),\n ('LAKELAND VINES, LLC', 18),\n ('MONARCH DEVELOPMENT, LLC', 18),\n ('BALTIMORE GAS AND ELECTRIC COMPANY', 18),\n ('UNITED STATES OF AMERICA', 18),\n ('JUBB III, WALTER H', 18),\n ('LAMB, INC', 18),\n ('MB 13 LLC', 18),\n ('KFRNA, LLC', 18),\n ('2511 EUTAW PLACE, LLC', 18),\n ('DOMAJH REALTY LLC', 18),\n ('10TH BALTIMORE ACQUISITION, LLC', 17),\n ('UNITED STATES SECRETARY OF HOUSING AND URBAN DEVELOPMENT', 17),\n ('HABC\\\\HERITAGE CROSSING SITE, LLC', 17),\n ('TIME ORGANIZATION, INC', 17),\n ('GILL, ROY T', 17),\n ('ECHO HOUSE MULTI SERVICE CENTER', 17),\n ('ATZ, LLC', 17),\n ('GRAY TRUSTEE, W GARY', 17),\n ('CAISON, DEION', 17),\n ('NANTICOKE INVESTMENT CO, LLC', 17),\n ('JUICENET INVESTMENTS, LLC', 17),\n ('EAST SIDE PARTNERS, LLC', 17),\n ('HENDERSON CROSSING, LLC', 17),\n ('NEIGHBORHOOD HOUSING SERVICES OF BALTIMORE, INC', 17),\n ('M3 GREEN ACRES DE, LLC', 17),\n ('STATE OF MARYLAND, MPA', 17),\n ('SINGH AND DAUGHTERS GLOBAL INVESTMENTS LLC', 16),\n ('MBAGWU, GEORGE C', 16),\n ('EMERY SUMMIT PARTNERS, LLC', 16),\n ('URBAN HOUSING, LLC', 16),\n ('FADIRAN, MOSES O', 16),\n ('PERSAUD, MOTEE', 16),\n ('NAOUI LLC', 16),\n ('JBN, LLC', 16),\n ('FEDERAL HOME LOAN MORTGAGE CORPORATION', 16),\n ('COLUMBIA REAL ESTATE LLC', 16),\n ('1100 CHARLES LLC', 16),\n ('WANG, FEI', 16),\n ('JOHNS HOPKINS HOSPITAL', 16),\n ('RENO ROCK, LLC', 16),\n ('VALSTA LLC', 16),\n ('HT TEN LLC', 16),\n ('BENU HOMES LLC', 16),\n ('302 E UNIVERSITY PARKWAY, LLC', 16),\n ('HT TWO LLC', 16),\n ('CENTERSTONE PROPERTIES, LLC', 16),\n ('SIMPSON, CHRISTOPHER', 16),\n ('FALKENHAN, DEBORAH M (TR)', 16),\n ('HUGEL, WILLIAM M', 16),\n ('BRIGHTON DEVELOPMENT GROUP, LLC', 16),\n ('HC-BALTIMORE LLC', 16),\n ('400 BUSINESS TRUST', 15),\n ('NEIGHBORHOOD PROPERTIES-4, INC', 15),\n ('EGBE VENTURES, LLC', 15),\n ('SARAB, LLC', 15),\n ('BROAD REACH CAPITAL, LLC', 15),\n ('108 INVESTMENTS LLC', 15),\n ('MARYLAND SCATTERED SITES, LLC', 15),\n ('PLUSV 101 LLC', 15),\n ('CAPITAL REEF, LLC', 15),\n ('HRISHRIM LLC', 15),\n ('1213 CALVERT COMPANY', 15),\n ('GAMA DEVELOPMENT COMPANY', 15),\n ('R AND H HOLDINGS, LLC', 15),\n ('ANGELOZZI AND MCCORMICK ENTERPRISES LLC', 15),\n ('DIVERSIFIED RESIDENTIAL HOMES 2 LLC', 15),\n ('POWELL RECOVERY CENTER, INC', 15),\n ('2ND BALTIMORE ACQUISITION, LLC', 15),\n ('SADAT REAL ESTATE, LLC', 15),\n ('EAST BALTIMORE DEVELOPMENT, INC', 15),\n ('SUPERIOR REAL ESTATE DEVELOPMENT COMPANY LLC', 15),\n ('BIBLEWAY MISSIONARY BAPTIST CHURCH, INC', 15),\n ('PATTERSON PROPERTIES MANAGEMENT, LLC', 15),\n ('EMMA AND ELIZABETH PETROVICH IRREVOCABLE TRUST', 15),\n ('SMR INVESTMENTS, LLC', 15),\n ('MD SQUARED HOLDINGS, LLC', 15),\n ('FRYER DEVELOPMENT, LLC', 15),\n ('HNR HOLDINGS, LLC', 15),\n ('WJH PROPERTIES LLC', 15),\n ('RED STONE PROPERTIES, LLC', 15),\n ('MACPIN LLC', 15),\n ('CORASANITI, SALVATORE J CORASANITIRESA', 15),\n ('ORFANOS, MICHAEL E ORFANOS, ANTHONY E', 15),\n ('HT SIX LLC', 15),\n ('CANTON DEVELOPMENT COMPANY, INC', 15),\n ('LEFTOVER ROCK, LLC', 15),\n ('RISING, LLC', 14),\n ('DIXON, JERMAINE', 14),\n ('DAVE, YASHODADEVI R', 14),\n ('BLUE STAR CONSTRUCTION, LLC', 14),\n ('SHELBY COMPANY 3, LLC', 14),\n ('TRIMARK MANAGEMENT COMPANY', 14),\n ('GUNPOWDER REALTY, LLC', 14),\n ('DUVAL JR, ROBERT B', 14),\n ('HUNT, HELEN H', 14),\n ('MAPLE AND GREEN, LLC', 14),\n ('AHMED, ABDELKARIM', 14),\n ('KFRNA LLC', 14),\n ('ALLENDALE STATION, LLC', 14),\n ('ZAHAV PLUS VENTURES LLC', 14),\n ('UNITED STATES POSTAL SERVICE', 14),\n ('CANDP TELEPHONE COMPANY OF MARYLAND', 14),\n ('PAM33, LLC', 14),\n ('MARYLAND TRANSIT ADMINISTRATION', 14),\n ('J AND G PROPERTIES', 14),\n ('BALTIMORE GAS AND ELECTRIC CO', 14),\n ('MERCY MEDICAL CENTER, INC', 14),\n ('TWO FARMS, INC', 14),\n ('P2 HOLDINGS, LLC', 14),\n ('VSP ORLANDO, LLC', 14),\n ('RP DELAWARE, LLC', 14),\n ('RIVAS, MARCELO', 14),\n (\"HEART'S PLACE SERVICES, INC\", 14),\n ('SHIRAZ, LLC', 14),\n ('HT NINE LLC', 14),\n ('CANG5, LLC', 14),\n ('HT FIVE LLC', 14),\n ('CLARKWIN, LLC', 14),\n ('MONTERO, CARLOS A', 14),\n ('REVITAL DEVELOPMENT, LLC', 14),\n ('PANA INVESTMENTS, LLC', 14),\n ('DECORATIVE WOOD DESIGN, LLC', 14),\n ('CANDID BUILDER AND INVESTORS LLC', 14),\n ('CRMD HOMES I, LLC', 14),\n ('ESHELMAN, JONAS W', 14),\n ('CAMPING IN  CITY, LLC', 14),\n ('GRASSO, JOHN', 14),\n ('10NC PROPERTIES, LLC', 13),\n ('TRENDLINE PROPERTIES, LLC', 13),\n ('HILTON VALLEY, LLC', 13),\n ('RESERVOIR HILL LIMITED PARTNERSHIP VIII', 13),\n ('COMMUNITY HOUSING ASSOCIATES LIMITED PARTNERSHIP II', 13),\n ('DENMON, DEBORAH', 13),\n ('BALTIMORE RESFUND 1 LLC', 13),\n ('RJL HOLDINGS, LLC', 13),\n ('EWINCORP ONE LLC', 13),\n ('HOLABIRD INVESTMENTS, LLC', 13),\n ('METROPOLITAN INVESTMENT TRUST AEQUO BALTIMORE LLC', 13),\n ('BALTIMORE SFR PORTFOLIO II, LLC', 13),\n ('URBAN BROWNSTONES, LLC', 13),\n ('THRESHOLD, INC', 13),\n ('EGBIREMOLEN, HARRISON', 13),\n ('UPTON GATEWAY I LLC', 13),\n ('CMZ TRUST', 13),\n ('GREEN DOOR PROPERTIES, LLC', 13),\n ('SAINT AMBROSE HOUSING AID CENTER, INC', 13),\n ('STATION PLACE LLC', 13),\n ('ARSENAL PROPERTIES LLC', 13),\n ('KENNEDY, KURT', 13),\n ('EAST BALTIMORE INVESTMENTS II, LLC', 13),\n ('JENKINS, CHARLES M', 13),\n ('EAST BALTIMORE DEVELOPMENT REALTY, LLC', 13),\n ('REMINGTON PASSAGE, LLC', 13),\n ('NEWCO, LLC', 13),\n ('DAYARAM AND ASSOCIATES, LLC', 13),\n ('TOPSTONE INV BWI 1 LLC', 13),\n ('BNL SERIES BUSINESS TRUST', 13),\n ('POSITIVE YOUTH EXPRESSIONS, INC', 13),\n ('IDEAL REALTY, INC', 13),\n ('FOSTER, JACQUELINE R', 13),\n ('MARMADUKE PROPERTIES II, LLC', 13),\n ('SINGER PARK AND PLAY, INCORPORATED', 13),\n ('PB HOLDING COMPANY, LLC', 13),\n ('ACTION RESULTS LLC', 13),\n ('5247 CROWSON AVENUE LLC', 13),\n ('MNSF T2 SPE, LLC', 13),\n ('OLDHAM CROSSING HOMEOWNERS ASSOCIATION, INC', 13),\n ('BIRD EYE LLC', 13),\n ('LAND ACQUISITION FOUNDATION TRUST', 13),\n ('MONTASER, MASOUD', 12),\n ('443, LLC', 12),\n ('LIENLOGIC REO F1, LLC', 12),\n ('JONES, MICHAEL', 12),\n ('APEX HOME BUYERS LLC', 12),\n ('NJOKU, CHUKWUEMEKA', 12),\n ('DOMINION PROPERTIES, LLC', 12),\n ('CHINEME, KINGSLEY', 12),\n ('HOPE CITY HOMES LLC', 12),\n ('LIT COMPANY', 12),\n ('BALTRENTALS DOT COM 2, LLC', 12),\n ('HVPF AMITY LLC', 12),\n ('SDI PROPERTIES, LLC', 12),\n (\"MCDONALD'S CORPORATION\", 12),\n ('DOUGLAS MEMORIAL COMMUNITY CHURCH VILLAGE, INC', 12),\n ('BALTIMORE IMPACT PROPERTIES II, LLC', 12),\n ('EARL COURT 1 LLC', 12),\n ('DOWNTOWN MEDICAL ASSOCIATES, LLC', 12),\n ('STATE OF MARYLAND FOR  USE OF  UNIVERSITY SYSTEM OF MARYLAND', 12),\n ('SEA N BLUE, LLC', 12),\n ('HOPE CENTER DC, INC', 12),\n ('2108 BOLTON STREET, INC', 12),\n ('EQUITABLE CALVERT, LLC', 12),\n ('GREATER GETHSEMANE MISSIONARY BAPTIST CHURCH', 12),\n ('SHELBY COMPANY, LLC', 12),\n ('3805 BELAIR RD LLC', 12),\n ('BEALL, CHARLES G', 12),\n ('BESHEFA 1 LLC', 12),\n ('FISH, JACQUELINE', 12),\n ('PENN ADVERTISING OF BALTIMORE, INC', 12),\n ('WASHINGTON HILL MUTUAL HOMES, INC', 12),\n ('ARIMAT, LLC', 12),\n ('FREEDOM RE LLC', 12),\n ('CANTON SQUARE HOMEOWNERS ASSOCIATION, INC', 12),\n ('ULTIMATE HOMES RENTALS LLC', 12),\n ('P AND W PROPERTIES, LLC', 12),\n ('PENGUIN RIDGE, LLC', 12),\n ('MEJIA, ELIAS', 12),\n ('BURRUS, ALLEN P', 12),\n ('RAJH, LLC', 12),\n ('HAMMER, JAMES H HAMMER, CLAIRE W', 12),\n ('BELVEDERE COURT STUDENT HOUSING LLC', 12),\n ('GRABOWSKI, MIROSLAW GRABOWSKI, CHRISTINE', 12),\n ('MARYLAND TRANSPORTATION AUTHORITY', 12),\n ('CASTRO, JOEL', 12),\n ('HOLABIRD CONSTRUCTION COMPANY', 12),\n ('HOLLINSWOOD REALTY CO', 12),\n ('CHERRY HILL APARTMENTS LIMITED PARTNERSHIP', 12),\n ('WYNDHOLME WOODS HOMEOWNERS ASSOCIATION, INC', 12),\n ('BRYANT JR, EDWARD', 11),\n ('JAMES E CANN', 11),\n ('BALTIMORE RENTAL HOLDINGS 2, LLC', 11),\n ('TRA HOME BUYERS, LLC', 11),\n ('RESERVOIR HILL LIMITED PARTNERSHIP IX', 11),\n ('RESERVOIR HILL LIMITED PARTNERSHIP XI', 11),\n ('EQUITY TRUST COMPANY (CUST)', 11),\n ('TAN-MAR INVESTMENTS, LLC', 11),\n ('STRICKEN INVESTMENT GROUP, LLC', 11),\n ('HARVENDI, LLC', 11),\n ('BLACK WOMEN BUILD - BALTIMORE INC', 11),\n ('CDANDM REAL ESTATE INVESTMENTS, LLC', 11),\n ('BALTIMORE EXCEL S7 LLC', 11),\n ('SHEFA SUCCESS LLC', 11),\n ('CHESTERFIELD ENTERPRISES, LLC', 11),\n ('GREENMOUNT 5, LLC', 11),\n ('NAVEEN INVESTMENTS, LLC', 11),\n ('CAMDEN CROSSING HOMEOWNERS ASSOCIATION, INC', 11),\n ('AMES MEMORIAL UNITED METHODIST CHURCH', 11),\n ('ALEXANDER KIERR REALTY, LLC', 11),\n ('MATZ, STUART', 11),\n ('EARL COURT 2 LLC', 11),\n ('EARL COURT 3 LLC', 11),\n ('JOSEPH RICHEY HOUSE, INC', 11),\n ('BELVEDERE AND CO REAL ESTATE LLC', 11),\n ('SOUTHSIDE OIL, LLC', 11),\n ('STATE OF MARYLAND FOR  USE OF  UNIVERSITY SYSTEM OF MARYLAND ON BEHALF OF ITS CONSTITUENT',\n  11),\n ('WARD STREET ENTERPRISES LLC', 11),\n ('CHEN, KONGPAN', 11),\n ('AMG, INC', 11),\n ('DALLAS STREET COMMUNITY DEVELOPMENT CORPORATION, INC', 11),\n ('DSP INVESTMENT GROUP LLC', 11),\n ('ST FRANCES ACADEMY, INC', 11),\n ('FAN, JINSHUI WU, FAN', 11),\n ('URBAN RENAISSANCE MANAGEMENT, LLC', 11),\n ('TLH TD PROPERTIES, LLC', 11),\n ('TRUSTEES OF  BIBLE WAY MISSIONARY BAPTIST CHURCH INC', 11),\n ('HT SEVEN LLC', 11),\n ('TONG, PATRICK', 11),\n ('HT ONE LLC', 11),\n ('SMD CAPITAL HOLDINGS 3 LLC', 11),\n ('DHP PRATT, LLC', 11),\n ('AMBERJACK LLC', 11),\n ('12-16 S PATTERSON PARK AVENUE DEVELOPMENT, LLC', 11),\n ('PETROLEUM FUEL AND TERMINAL COMPANY', 11),\n ('HARBORVIEW LIMITED PARTNERSHIP NO3', 11),\n ('SIMS ARG, INC', 11),\n ('BENEDICTINE SOCIETY OF BALTIMORE CITY', 11),\n ('ALAFIA HOLDINGS III, INC', 11),\n (\"DAVE'S SEAFOOD, MEAT AND POULTRY, LLC\", 11),\n ('MC LAZARUS REALTY LLC', 11),\n ('BALT-PARK, LLC', 11),\n ('NORTHWEST TOWNHOUSE ASSOCIATES, LLC', 11),\n ('MID-ATLANTIC CAPITAL, LLC', 11),\n ('NEXT LEVEL REALTY, LLC', 11),\n ('JMD RENTALS, LLC', 11),\n ('XELA HOMES, LLC', 11),\n ('FSK LAND CORPORATION', 11),\n ('MARMADUKE PROPERTIES I, LLC', 11),\n ('AK HOMES, LLC', 11),\n ('WILMINGTON MENLO LLC MENLO PARK INVESTORS LLC', 11),\n ('FALL EVE LLC', 11),\n ('COHEN, MICAH E COHEN, MELISSA G', 11),\n ('EASTERN DIVERSIFIED PROPERTIES, INC', 11),\n ('RHINES COMPANY, LLC', 11),\n ('EAGLE PROPERTIES LLC', 11),\n ('WESTPORT CAPITAL DEVELOPMENT, LLC', 11),\n ('OAKLEE VILLAGE BALTIMORE LLC', 11),\n ('SIGNATURE RG TIC II OWNER LLC SIGNATURE RG OWNER LP', 11),\n ('METROPOLIS PROPERTIES, LLC', 10),\n ('6340 FREDERICK, LLC', 10),\n ('MOUNT STREET PROPERTIES, LLC', 10),\n ('RENOVATIONS BY DESIGN, LLC', 10),\n ('BALTIMORE RISING I, LLC', 10),\n ('TRAN, QUI', 10),\n ('DYKES, GEORGE DYKES, ELSIE M', 10),\n ('BHAGAT, DILIP', 10),\n ('TAYLORMADE ENTP, LLC', 10),\n ('TRI-CHURCHES HOUSING, INC', 10),\n ('KURICHH, RAJEEV', 10),\n ('RESERVOIR HILL MUTUAL HOMES, INC', 10),\n ('HOMES FOR GREATER BALTIMORE LIMITED PARTNERSHIP', 10),\n ('ADEBAYO, CLEMENT', 10),\n ('NASIR, MUHAMMAD JAVED', 10),\n ('SANDH BELVEDERE REALTY, LLC', 10),\n ('EQUITY TRUST COMPANY', 10),\n ('506 CADRAL STREET, LLC', 10),\n ('504 CADRAL STREET, LLC', 10),\n ('ASSOCIATED CATHOLIC CHARITIES, INC', 10),\n ('EMMANUEL PROPERTIES, LLC', 10),\n ('SPF HOMES 2, LLC', 10),\n ('GLAZER, BARRY R (LIFE) GARGEU, GINA M', 10),\n ('37 WEST CROSS STREET, LLC', 10),\n ('300 EAST CROMWELL STREET, LLC', 10),\n ('TADESSE AND ASSOCIATES, INC', 10),\n ('KC MADISON LLC', 10),\n ('MONUMENT EAST APARTMENTS LLC', 10),\n ('ALLY CAT, LLC', 10),\n ('BOARD OF TRUSTEES OF  NEW COMMUNITY COLLEGE OF BALTIMORE', 10),\n ('SUGERHILL INCORPORATED', 10),\n ('FIRST JOHN TABERNACLE BAPTIST CHURCH OF BALTIMORE, MARYLAND, INC', 10),\n ('HT EIGHT LLC', 10),\n ('CHANTAL DESIGN OFFICIAL LLC', 10),\n ('FERTEL CAPITAL LLC', 10),\n ('MWG INVESTMENTS, LLC', 10),\n ('NASSIRI PROPERTIES, LLC', 10),\n ('HELP II LLC', 10),\n ('901 ELLWOOD, LLC', 10),\n ('BAKER, JAMES A', 10),\n ('HARBORVIEW MARINA AND YACHT CLUB COMMUNITY ASSOCIATION, INC', 10),\n ('PIER PROPERTIES, LLC', 10),\n ('MALLOY, KARL', 10),\n ('KHAN, ANWAR Q KHAN, NAJMA', 10),\n ('RECREATED INVESTMENTS LLC', 10),\n ('JAIN, SUNIL', 10),\n ('RORISON, DAVID G', 10),\n ('NAPOLITANO, JOHN E (TR)', 10),\n ('WILLIAMS, JOHN TOLLIVER (TR) WILLIAMS, CAROL TENNISON (TR) WYSKIEL, CHRISTINA WILLIAMS (TR)',\n  10),\n ('SCHEFFRES, MICHAEL B SCHEFFRES, SUSAN', 10),\n ('PIERSIDE UNIT OWNERS,LLC', 10),\n ('LINAC SERVICES, INC', 10),\n ('DC HOLDINGS II, INC', 10),\n ('MCMATH, DAVID', 10),\n ('CIG TEN LLC', 10),\n (\"LU'S VENTURE 4, LLC\", 10),\n ('NEW FELLOWSHIP BIBLE CHURCH AND MINISTRIES, INC', 10),\n ('DAY REAL ESTATE LLC', 10),\n ('RMS TARGET PROPERTIES, LLC', 10),\n ('LAKELAND VINES LLC', 10),\n ('WRIGHT, JUSTEIN', 10),\n ('TAYLOR, CALVIN TAYLOR, MARGARET', 10),\n ('ZFR RENTALS LLC', 10),\n ('ZHANG, ZHEN', 10),\n ('TEN 10 GROUP, LLC', 10),\n ('TERRACE HEIGHTS LLC', 10),\n ('BEPPE, LLC', 10),\n ('TAYEBI, ABDELKADER', 10),\n ('METROPOLITAN TRANSIT AUTHORITY', 10),\n ('MITTAL, MAHESH C (TR)', 10),\n ('SACHS PROPERTIES, LLC', 10),\n ('JEN BECK LLC', 10),\n ('AMBROSE HOUSING LLC', 10),\n ('K AND S SERIES STATUTORY TRUST', 10),\n ('TRIANGLE REALTY AND CONSTRUCTION CO', 10),\n ('4501 N ROGERS AVE LLC', 10),\n ('CONGREGATION KAHAL CHASSIDIM, INC', 10),\n ('GRABOWODORE S GRABOW, JENNIFER H', 10),\n ('HABICHT, LESLIE CHELLIS', 10),\n ('BALTIMORE HOUSING FUND I, LLC', 10),\n ('MORAVIA LIMITED PARTNERSHIP', 10),\n ('ESR PLACE LLC', 10),\n ('HT THREE LLC', 10),\n ('BAKER, JAMES AUGUST (LIFE)', 10),\n ('FOTINOS, JAMES FOTINOS, MARIA', 10),\n ('BARANOWSKI, THOMAS M BARANOWSKI, RUTH E', 10),\n ('KOOLIO REALTY, LLC', 10),\n ('COPART OF CONNECTICUT, INC', 10),\n ('RHINES COMPANY LLC', 10),\n ('SWANN, SHERROD', 10),\n ('NORTH AVENUE HOLDINGS, LLC', 9),\n ('TIAZO INVESTMENTS LLC', 9),\n ('MAPLE AND GREEN LLC', 9),\n ('PETTYJOHN, JAMES L', 9),\n ('APP CONSULTING GROUP, LLC', 9),\n ('BROWN, CARL NATHANIEL', 9),\n ('HOUSING AUTHORITY OF BALTIMORE', 9),\n ('PRIDE INVESTMENT AND DEVELOPMENT, LLC', 9),\n ('MARKS, FELIX', 9),\n ('450 EAST MAIN, LLC', 9),\n ('MAWE INTERNATIONAL RESOURCES, LLC', 9),\n ('SW NURSING HOME LIMITED PARTNERSHIP', 9),\n ('MECCA PROPERTIES LLC', 9),\n ('SZ INVESTMENTS, LLC', 9),\n ('PBIH II, LLC', 9),\n ('RESERVOIR HILL LIMITED PARTNERSHIP VII', 9),\n ('YASINI BRORS LLC', 9),\n ('MASON, GARLAND', 9),\n ('LEVY VENTURES, LLC', 9),\n ('ROWHOUSES, INC', 9),\n ('MCK BAPAZ CAPITAL LLC', 9),\n ('HOLLY ASSET GROUP II, LLC', 9),\n ('GORHAM, NATHAN', 9),\n ('DAK AND ASSOCIATES, LLC', 9),\n ('SIDESTEP HOLDINGS, LLC', 9),\n ('CLARKE, CECIL', 9),\n ('HARRIS, WILLIAM H', 9),\n ('BWI RE PROPERTIES, LLC', 9),\n ('MCGURN, MICHAEL', 9),\n ('MCLEAN, ELEANOR', 9),\n ('BOYD STREET, LLC', 9),\n ('ZABLAH REAL ESTATE, LLC', 9),\n ('HOPE CITY HOMES, LLC', 9),\n ('KROMSKY BRORS LLC', 9),\n ('NEWBORN HOLISTIC MINISTRIES, INC', 9),\n ('ARIJM PRO, LLC', 9),\n ('PA AVENUE SPIN, INC', 9),\n ('OUTDOOR VENDING AND ADVERTISING, LLC', 9),\n ('PERRONE, THOMAS R PERRONE, DANA H', 9),\n ('UPTON COURTS ASSOCIATES', 9),\n ('ASSOCIATED JEWISH CHARITIES OF BALTIMORE', 9),\n ('COUNCIL OF UNIT OWNERS OF  1209 NORTH CHARLES CONDOMINIUM, INC', 9),\n ('ANANDAKRISHNAN, RAVI', 9),\n ('BELVEDERE, LLC', 9),\n ('MARYLAND STADIUM AUTHORITY', 9),\n ('PEOPLE ENCOURAGING PEOPLE, INC', 9),\n ('BALTIMORE RENTAL HOLDINGS LLC', 9),\n ('GREATER BALTIMORE HOMES, LLC', 9),\n ('US BANK TRUST NATIONAL ASSOCIATION', 9),\n ('FEDERAL HILL LOFTS, LLC', 9),\n ('DRB GROUP MID-ATLANTIC, LLC', 9),\n ('BALTIMORE PROPERTIES NO 1', 9),\n ('BARCLAY OUTLOOK, LLC', 9),\n ('LEE, TYRONE', 9),\n (\"ST FRANCIS XAVIER'S ROMAN CATHOLIC CONGREGATION, INCORPORATED\", 9),\n ('MAX DADDY, LLC', 9),\n ('4 BROADWAY, LLC', 9),\n ('GRAND DEVELOPMENT, LLC', 9),\n ('BHATIA, ANITA J', 9),\n ('SOURN BAPTIST CHURCH, INC', 9),\n ('HOS PROPERTIES, LLC', 9),\n ('1817 EAST PRESTON LLC', 9),\n ('BROADWAY NORTH LIMITED PARTNERSHIP', 9),\n ('SURE RENTAL COMPANY, LLC', 9),\n ('901 N MILTON AVENUE, LLC', 9),\n ('TUFAIL AND ASSOCIATES, LLC', 9),\n ('HABTEYES, HABTAMU', 9),\n ('VINCENTIVE, LLC', 9),\n ('8617 WEST FORT FOOTE, LLC', 9),\n ('FIDELITY PROPERTIES, LLC', 9),\n ('AVAD HOLDINGS, LLC', 9),\n ('KMS PROPERTY, LLC', 9),\n ('JV BALTIMORE I, LLC', 9),\n ('DOMINION RENTAL HOLDINGS LLC', 9),\n ('AJ INVESTMENTS, LLC', 9),\n ('AU, HONG', 9),\n ('LIBERTY-CONDOMINIUMS, LLC', 9),\n ('ANCHORAGE MARINA, INC', 9),\n ('NDEFRU, MARTIN', 9),\n ('DANYALI, JACOB', 9),\n ('YS ESTATES, LLC', 9),\n ('CHAMBERS, ERIC L', 9),\n ('WILLIAMS, OMAR WILLIAMS, PAMELA', 9),\n ('URBANIA DEVELOPMENT, LLC', 9),\n ('BMAD HOLDINGS, LLC', 9),\n ('COPPIN HEIGHTS COMMUNITY DEVELOPMENT CORPORATION', 9),\n ('BLUEROCK ESTATES LLC', 9),\n ('MDC CAPITAL, LLC', 9),\n ('COMMERCIAL ACQUISITIONS, LLC', 9),\n ('BLUE WATER PROPERTIES, LLC', 9),\n ('PEOPLE ENCOURAGING PEOPLE, INCORPORATED', 9),\n ('RESIDENTIAL STYLES, LLC', 9),\n ('SMEC, LLC', 9),\n ('5122 NELSON LLC', 9),\n ('WABASH MANOR, LLC', 9),\n ('EHRLICH AND EHRLICH INVESTMENTS LLC', 9),\n ('COMMUNITY SOLUTIONS, LLC', 9),\n ('MADISON-MORRIS NEIGHBORHOOD PROJECT, INC', 9),\n ('GIOIOSO, WAYNE R GIOIOSO, JUDY F', 9),\n ('UNIVERSITY PLACE, LLC', 9),\n ('ROLAND HEIGHTS, LC', 9),\n ('SCHMIDT JR, WESLEY A', 9),\n ('BRAZOS AUTOMOTIVE PROPERTIES, LP', 9),\n ('FRANKEL PROPERTIES, LLC', 9),\n ('HSDB, LLC', 9),\n ('WYMAN PARK GARAGE CORP', 9),\n ('BROWN AND PERKINS LLC', 9),\n ('2422-2436 NORTH CALVERT, LLC', 9),\n ('BARNETT, CHARLES W', 9),\n ('CIG SIX LLC', 9),\n ('KAWALSINGH, MOHANEE', 9),\n ('CHARLOTTE BEVERLEE, LLC', 9),\n ('FIRST MT PROPERTIES, LLC', 9),\n ('FLORA PARK APTS LLC AND FLORA PARK OWNERS LLC', 9),\n ('FALLS VILLAGE LIMITED PARTNERSHIP LLLP', 9),\n ('GREENLYN OWNER, LLC (ETAL)', 9),\n ('GM MARYLAND LLC', 9),\n ('EAST BELVEDERE REALTY, LLC', 9),\n ('NORTH MARBLE LLC', 9),\n ('MNSF T3 SPE, LLC', 9),\n ('GREENWAY, MICHAEL A MISTERKA, JUDITH A', 9),\n ('CIG EIERMAN 2, LLC', 9),\n ('HAZELWOOD HOMES LP', 9),\n ('SINCLAIR ESTATES LIMITED PARTNERSHIP', 9),\n ('PROPERTY ISLAND LLC', 9),\n ('LOUKAKIS, LOUKAS', 9),\n ('CLINTON STREET INDUSTRIAL, LLC', 9),\n ('AMERICAN FLOORS SOLUTION, LLC', 9),\n ('JUICENET INVESTMENTS 2, LLC', 9),\n ('FAIRHAVEN AVENUE PROPERTIES, LLC', 9),\n ('POPLAND STREET PROPERTIES, LLC', 9),\n ('FINE RESTORATIONS, LLC', 9),\n ('DOYLE, THOMAS S', 9),\n ('GURINO HOUSING I LLC', 8),\n ('SIMRET, LLC', 8),\n ('HUANG, SHAN-JEN CHEN HUANG, TAIN-JYUE', 8),\n ('RESERVOIR HILL LIMITED PARTNERSHIP X', 8),\n ('JV BALTIMORE PICASSO LLC', 8),\n ('DEVINE WEALTH MANAGEMENT SOLUTIONS, LLC', 8),\n ('NAO, LLC', 8),\n ('NIBRET, LLC', 8),\n ('ASTROP, JOSHUA ASTROP, ROSLYN', 8),\n ('AMY INVESTMENT PROPERTIES LLC', 8),\n ('SAUNDERS, TERRAINE', 8),\n ('FINDLAY, SUSAN', 8),\n ('ALL STATE PROPERTIES,INC', 8),\n ('PARRISH STREET PROPERTIES, INC', 8),\n ('DOBBINS JR, JOHN (LIFE)', 8),\n ('BNJ HEALTH SERVICES, LLC', 8),\n ('AJOR REAL ESTATE GROUP, LLC', 8),\n ('SLDL PROPERTIES LLC', 8),\n ('LEO, CAROLINE', 8),\n ('HATHAWAY ENTERPRISE, LLC', 8),\n ('MIDFIRST BANK', 8),\n ('DLZ INVESTMENT GROUP, LLC', 8),\n ('MOORE, CHARLES', 8),\n ('DONALDSON, DWIGHT', 8),\n ('MOSE, BERNARD', 8),\n ('SERMAR, INC', 8),\n ('ALLEN, RON M (TR)', 8),\n ('BMV LLC', 8),\n ('UMIA MA PROPERTIES, LLC', 8),\n ('MARYLAND SUITES, LLC', 8),\n ('AFRAMIAN, SHANA', 8),\n ('DDAT REALTY MANAGEMENT, LLC', 8),\n ('PORTILLO, HEBER I', 8),\n ('BALTIMORE RENAISSANCE DEVELOPMENT GROUP, LLC', 8),\n ('TLP INVESTMENTS LLC', 8),\n ('COSTA MANAGEMENT LLC', 8),\n ('BALTIMORE CITY INVESTORS, LLC', 8),\n ('THOMPSON, KENNETH', 8),\n ('4 AIDA, LLC', 8),\n ('YALCIN, MIRZA', 8),\n ('IMANOEL, BABAK', 8),\n ('NOYA, MANUEL A', 8),\n ('DRIVER ENTERPRISES, LLC', 8),\n ('AMAYA, NOE', 8),\n ('MLB INVESTMENTS LLC', 8),\n ('DHAKA PROPERTIES LLC', 8),\n ('BALTPROP LLC', 8),\n ('ESST, LLC', 8),\n ('RESERVOIR HILL LIMITED PARTNERSHIP XII', 8),\n ('DRUID HEIGHTS COMMUNITY DEVELOPMENT CORPORATION, INC', 8),\n ('WILLIAMS, PATRICIA', 8),\n ('SKYRISE INVESTORS, LLC', 8),\n ('IVEY, WESTERN W', 8),\n ('NJOKU, CHUKWUEMEKA AHAMEFULE', 8),\n ('PHILOTES, LLC', 8),\n ('MAYES CAPITOL INVESTMENTS, LLC', 8),\n ('ZENITH PROPERTIES, LLC', 8),\n ('THREE COWBOYS HOLDING CO, LLC', 8),\n ('EARL COURT 4 LLC', 8),\n ('BALTIMORE URBAN LEAGUE, INC,', 8),\n ('KGRK, LLC', 8),\n ('DEBORJA PROPERTIES, LLC', 8),\n ('809 CADRAL, LLC', 8),\n ('MOADDAB, MOHAMMAD', 8),\n ('ESJJ, LLC', 8),\n ('EAGLE HOMES USA, LLC', 8),\n ('NORINO PROPERTIES, LLC', 8),\n ('MIDTOWN PROPERTIES, LLC', 8),\n ('TK AND CK ENTERPRISES, LLC', 8),\n ('RICHARDSON RENOVATIONS, LLC', 8),\n ('PETTYJOHN, JAMES', 8),\n ('LOGSDON, CHRISTOPHER', 8),\n ('A BERG REAL ESTATE, LLC', 8),\n ('HARBOR WALK TOWNHOUSE ASSOCIATION, INC', 8),\n ('SCOTT, PENELOPE', 8),\n ('STROHECKER, STEPHEN H', 8),\n ('PROTZMAN, TIMOTHY J', 8),\n ('REBIRTH DEVELOPMENT, LLC', 8),\n ('PITMAN TOWNHOMES, INC', 8),\n ('LIVE IT UP, LLC', 8),\n ('GSP HOLDING GROUP, LLC', 8),\n ('CENTRAL AND PRESTON, LLC', 8),\n ('TUERK HOUSE PROPERTIES, INC', 8),\n ('FIRST APOSTOLIC FAITH INSTITUTIONAL CHURCH', 8),\n ('NAHAL, DALBIR SINGH', 8),\n ('CROWN MASTERS LLC', 8),\n ('MAR LIMITED LIABILITY COMPANY', 8),\n ('ASPECT NORTH, LLC', 8),\n ('BELLO INVESTMENTS, LLC', 8),\n ('KB HOLDING 1 LLC', 8),\n ('MAYOR ANC CITY COUNCIL OF BALTIMORE', 8),\n ('FOSTER, ANTWON', 8),\n ('LOTS, LLC', 8),\n ('MCARTHUR, ALVIN', 8),\n ('2200 EAST BIDDLE LLC', 8),\n ('REVERSE MORTGAGE FUNDING LLC', 8),\n ('DIANA, LLC', 8),\n ('FRANKFORD ESTATES,LLC', 8),\n ('PATTERSON PARK NORTH, LLC', 8),\n ('HOPE DEVELOPMENT COMPANY', 8),\n ('VISANG VENTURES LLC', 8),\n ('YB INVEST LLC', 8),\n ('SUNRAY MGMT LLC', 8),\n ('RAMBLEWOOD PROPERTIES 1, LLC', 8),\n ('SE CENTRUM LLC', 8),\n ('PRINCETON HOMES, LLC', 8),\n ('GARCIA, EDWARD ANTHONY', 8),\n ('SILIQUA, LLC', 8),\n ('AUSLANDER, BRUCE', 8),\n ('JW HOLDINGS, LLC', 8),\n ('BALTIMORE GAS AND ELEC CO', 8),\n ('BEMATECH LLC', 8),\n ('GLITTER INVESTMENTS, LLC', 8),\n ('GERSTELL WEST, LLC', 8),\n ('RUSTIN PROPERTIES, LLC', 8),\n ('SRIKUMARAN, UMASUTHAN SRIKUMARAN, DIVYA', 8),\n ('PHAROS MARINE, LLC', 8),\n ('BALTIMORE HARBORVIEW MARINE CENTER, LLC', 8),\n ('APCOND, LLC', 8),\n ('NVR, INC', 8),\n ('S4 HOMES, LLC', 8),\n ('KABAH PROPERTY GROUP, LLC', 8),\n ('MILL HILL PROPERTIES, LLC', 8),\n ('WEST SIDE PROPERTIES, LLC', 8),\n ('BELNAVIS, SEBASTIAN', 8),\n ('BROWN, MARK N', 8),\n ('PRIZE PROPERTY LLC', 8),\n ('HOLLY, DARRIN K', 8),\n ('EMVESTMENTS LLC', 8),\n (\"WANG'S VENTURE 3, LLC\", 8),\n ('LIGNUM PROPERTIES, LLC', 8),\n ('LOGAN, KRISTEN', 8),\n ('CMAC DEVELOPMENT LLC', 8),\n ('BATTS, LINDA', 8),\n ('GEBREMARIAM, ABIOT', 8),\n (\"LU'S VENTURE, LLC\", 8),\n ('EGH PORTFOLIO 1 LLC', 8),\n ('ARL HOLDINGS II LLC', 8),\n ('CIG FOUR, LLC', 8),\n ('COMMERCIAL ACQUISITIONS LLC', 8),\n ('EK HOMES HOLDINGS, LLC', 8),\n ('SOUTH MACON LLC', 8),\n ('COUNTYWIDE PROPERTY LLC', 8),\n ('18 HOLDINGS LLC', 8),\n ('PP P10 1, LLC', 8),\n ('FIDDY, LLC', 8),\n ('ASTERIX LLC', 8),\n ('DAVIS, WESLEY G WRIGHT, JERMAINE', 8),\n ('HILTON VALLEY LLC', 8),\n ('COLLINS, BROCK', 8),\n ('ROJAS, NATHANAEL', 8),\n ('NEW HORIZON DEVELOPMENT, LLC', 8),\n ('RHODES, JOHNNY EDWARDS, CHAUNTE', 8),\n ('KOPPEL, LLC', 8),\n ('MCB WOODBERRY DEVELOPER LLC', 8),\n ('FOWLKES, ROBIN', 8),\n ('UPWARD AMERICA SOUAST PROPERTY OWNER , LP', 8),\n (\"AT JACOB'S WELL, INC\", 8),\n ('MARION INVESTMENTS, LLC', 8),\n ('RWN-COLONNADE HOTEL LLC', 8),\n ('BAHLER, GARY M COOPER, AMY S', 8),\n ('ALLIANCE REAL ESTATE HOLDINGS LLC', 8),\n ('QUICK HOME SOLUTION, LLC', 8),\n ('EMERGE PROPERTIES, LLC', 8),\n ('NESMITH, TERRY', 8),\n ('PENNSYLVANIA AVENUE PROPERTIES NO 7, LLC', 8),\n ('WINSTON ESTATES LLC WINSTON TIC II OWNER LLC WINSTON TIC III OWNER LLC', 8),\n ('WZ, LLC', 8),\n (\"O'HARA DEVELOPMENT PARTNERS CDC INC\", 8),\n ('CITY LINK PARTNERS, LLC', 8),\n ('BETTER WAVERLEY LLC', 8),\n ('BISSESSAR, RAMRAJIE BISSESSAR, ANGELY', 8),\n ('BERTLING, JEFFREY', 8),\n ('NEW RED TAG LLC', 8),\n ('GABAY, MOSHE', 8),\n ('RAMINFAR, AMIR RAMINFAR, YOUNA', 8),\n ('MILBROOK TOWNHOUSES, LLC', 8),\n ('FORDLEIGH ASSOCIATES, LLC', 8),\n ('CARS-DB4, LP', 8),\n ('GREENSPRING ASSOCIATES', 8),\n ('DEVELOPMENT CORPORATION OF NORTHWEST BALTIMORE', 8),\n ('KIBLER NAGLE, LLC', 8),\n ('CPR HOLDINGS, LLC', 8),\n ('ROYAL PARK REALTY, LLC', 8),\n ('BAGHERI, BAHRAM', 8),\n ('HT FOUR LLC', 8),\n ('LIN, BIN', 8),\n ('KEY POINT HEALTH SERVICES, INC', 8),\n ('ACS PROPERTIES LLC', 8),\n ('E AND L HOMES, LLC', 8),\n ('NIU, HONG HUANG, JIAYU', 8),\n ('COBALT PROPERTIES, LLC', 8),\n ('BROOKLYN PROPERTY GROUP LLC', 8),\n ('RIVERSIDE WORK FORCE LLC', 8),\n ('PEDRAZA, MIGUEL ANGEL', 8),\n ('WHETZEL, JAMES F', 8),\n ('MARYLAND ALPHA INVESTMENT CLUB, INC', 8),\n ('JSP PARTNERS, LLC', 7),\n ('JOSEPH, BENEDICT', 7),\n ('PORT HOMES, LLC', 7),\n ('PARKER, VAUGHN BRUCE', 7),\n ('NEAT MANAGEMENT, LLC', 7),\n ('A*R*T* ENTERPRISES, LLC', 7),\n ('AR INVESTORS, LLC', 7),\n ('SMITH, DWIGHT', 7),\n ('ROSEMEYER PROPERTIES, LLC', 7),\n ('MBAGWU, GEORGE', 7),\n ('MADISON 5, LLC', 7),\n ('MURRELL, CEPHUS M MURRELL, BETTY W', 7),\n ('ZATAK INVESTMENTS LLC', 7),\n ('WOOD, JUAN', 7),\n ('THOMPSON, LANCE', 7),\n ('DORSEY, CALVIN', 7),\n ('BENNETT, MARGARET (LIFE)', 7),\n ('PBIH I, LLC', 7),\n ('ESCOBAR, MARCIAL A', 7),\n ('STILWELL, CARL', 7),\n ('HATHAWAY SOLUTIONS, LLC', 7),\n ('MOORE, RUSSELL', 7),\n ('BALDWIN DEVELOPMENT CORPORATION', 7),\n ('JOHNSON, MICHAEL', 7),\n ('BALTIMORE RENTAL HOLDINGS 2 LLC', 7),\n ('CHESAPEAKE ROW HOMES, LLC', 7),\n ('JMCN, INC', 7),\n ('JV BALTIMORE PICASSO, LLC', 7),\n ('DALEY DIFRANCO AND CO, LLC', 7),\n ('DONWIL PROPERTIES, LLC', 7),\n ('HOLDING COMPANY, LLC', 7),\n ('ZOEY INVESTMENT PROPERTIES, LLC', 7),\n ('4 SPRINGS PROPERTIES LLC', 7),\n ('GUY, DONNELL', 7),\n ('BMV, LLC', 7),\n ('HOMEFREE-USA, INC', 7),\n ('GSP HOLDING GROUP, LLC SERIES 1', 7),\n ('RICH, DAMAION', 7),\n ('AKINNAGBE, DAMILOLA VICTOR', 7),\n ('MACK PROPERTIES, INC', 7),\n ('DANTZIG AND RIESS, LLC', 7),\n ('RE ARE SEVEN, LLC', 7),\n ('BA HOLDINGS, LLC', 7),\n ('FREC I, LLC', 7),\n ('BADRA, SUBHI', 7),\n ('SANCHUCK, ROBERT', 7),\n ('BFA PROPERTIES, LLC', 7),\n ('LA, BELINDA', 7),\n ('107-111 PARKIN STREET, LLC', 7),\n ('EMERALD BAY DEVELOPMENT GROUP ONE, INC', 7),\n ('MCCLAIN, OTIS MCCLAIN, FRANCISCA', 7),\n ('HAILE, ASTER', 7),\n ('MONARCH DEVELOPMENT LLC', 7),\n ('ZHAO, GUANGZHI', 7),\n ('SHANGHAI INVESTORS MD, LLC', 7),\n ('STAX CHARM CITY, LLC', 7),\n ('WESTSIDE PROPERTIES, INC', 7),\n ('BHAGAT, DILIP H', 7),\n ('JOSE C ARROYO, MD, PA, RETIREMENT TRUST', 7),\n ('ALLEN III, WADE', 7),\n ('COLLEGE KIDS, INC', 7),\n ('JONES, JAMES', 7),\n ('OMIRA PROPERTIES, LLC', 7),\n ('TRUSTEES OF AMES MEMORIAL UNITED METHODIST CHURCH', 7),\n ('BANDD PHASE III (2), LLC', 7),\n (\"SPICER'S RUN HOMEOWNER ASSOCIATION, INC\", 7),\n ('FORELSE ENTERPRISES, LLC', 7),\n ('ML REAL ESTATE, LLC', 7),\n ('ARS22 LLC', 7),\n ('SILVER, JEFFREY J (TR)', 7),\n ('SPIKER, JONATHAN', 7),\n ('ALPHA ITHA PROPERTIES LLC', 7),\n ('CMZ IRREVOCABLE TRUST', 7),\n ('PORTAGE CORPORATION', 7),\n ('STATE OF MARYLAND, UNIVERSITY OF MARYLAND FOR  USE OF  UNIVERSITY SYSTEM, BALTIMORE',\n  7),\n ('STEIN, MARY F STEIN, DAVID P', 7),\n ('STOLTZFUS, JEFFREY STOLTZFUS, DAVID', 7),\n ('STAX CHARM CITY LLC', 7),\n ('RP MANAGEMENT, LLC', 7),\n ('FINANCIAL FREEDOM INVESTMENTS LLC', 7),\n ('MONUMENT CITY HOLDINGS, LLC', 7),\n ...]"
     },
     "execution_count": 13,
     "metadata": {},
     "output_type": "execute_result"
    }
   ],
   "source": [
    "sorted_owners"
   ],
   "metadata": {
    "collapsed": false,
    "ExecuteTime": {
     "end_time": "2024-03-12T18:46:33.241991Z",
     "start_time": "2024-03-12T18:46:33.222345Z"
    }
   },
   "id": "fcbab55cbf706679"
  },
  {
   "cell_type": "code",
   "execution_count": 14,
   "outputs": [
    {
     "ename": "IndexError",
     "evalue": "list assignment index out of range",
     "output_type": "error",
     "traceback": [
      "\u001B[0;31m---------------------------------------------------------------------------\u001B[0m",
      "\u001B[0;31mIndexError\u001B[0m                                Traceback (most recent call last)",
      "Cell \u001B[0;32mIn[14], line 3\u001B[0m\n\u001B[1;32m      1\u001B[0m housing_lookup \u001B[38;5;241m=\u001B[39m {}\n\u001B[1;32m      2\u001B[0m \u001B[38;5;28;01mfor\u001B[39;00m h \u001B[38;5;129;01min\u001B[39;00m housing_feat:\n\u001B[0;32m----> 3\u001B[0m     \u001B[43mhousing_feat\u001B[49m\u001B[43m[\u001B[49m\u001B[43mh\u001B[49m\u001B[43m[\u001B[49m\u001B[38;5;124;43m'\u001B[39;49m\u001B[38;5;124;43mOBJECTID\u001B[39;49m\u001B[38;5;124;43m'\u001B[39;49m\u001B[43m]\u001B[49m\u001B[43m]\u001B[49m \u001B[38;5;241m=\u001B[39m h\n",
      "\u001B[0;31mIndexError\u001B[0m: list assignment index out of range"
     ]
    }
   ],
   "source": [
    "housing_lookup = {}\n",
    "for h in housing_feat:\n",
    "    housing_feat[h['OBJECTID']] = h"
   ],
   "metadata": {
    "collapsed": false,
    "ExecuteTime": {
     "end_time": "2024-03-12T18:48:02.231591Z",
     "start_time": "2024-03-12T18:48:01.575516Z"
    }
   },
   "id": "276f658d3738249e"
  },
  {
   "cell_type": "code",
   "execution_count": 169,
   "outputs": [
    {
     "data": {
      "text/plain": "[False,\n True,\n None,\n None,\n None,\n None,\n None,\n None,\n None,\n True,\n True,\n True,\n None,\n None,\n None,\n None,\n True,\n None,\n None,\n None,\n False,\n True,\n None,\n None,\n None,\n None,\n None,\n None,\n None,\n None,\n None,\n None,\n None,\n None,\n True,\n True,\n True,\n True,\n True,\n None,\n None,\n True,\n None,\n True,\n True,\n True,\n None,\n True,\n None,\n False,\n None,\n True,\n True,\n True,\n True,\n True,\n None,\n None,\n True,\n None,\n True,\n True,\n False,\n True,\n True,\n True,\n True,\n None,\n None,\n None,\n None,\n None,\n True,\n True,\n True,\n True,\n None,\n True,\n True,\n None,\n True,\n True,\n None,\n None,\n None,\n None,\n True,\n False,\n True,\n None,\n None,\n True,\n None,\n None,\n None,\n None,\n True,\n None,\n None,\n None]"
     },
     "execution_count": 169,
     "metadata": {},
     "output_type": "execute_result"
    }
   ],
   "source": [
    "[x[IS_VACANT] for x in housing_feat[100:200]]"
   ],
   "metadata": {
    "collapsed": false,
    "ExecuteTime": {
     "end_time": "2024-02-01T01:41:17.496698Z",
     "start_time": "2024-02-01T01:41:17.482489Z"
    }
   },
   "id": "3df67280a498084f"
  },
  {
   "cell_type": "code",
   "execution_count": 25,
   "outputs": [
    {
     "data": {
      "text/plain": "float"
     },
     "execution_count": 25,
     "metadata": {},
     "output_type": "execute_result"
    }
   ],
   "source": [
    "type(building_properties[0]['geometry']['coordinates'][0][0][0])"
   ],
   "metadata": {
    "collapsed": false,
    "ExecuteTime": {
     "end_time": "2024-03-12T19:22:22.563065Z",
     "start_time": "2024-03-12T19:22:22.549233Z"
    }
   },
   "id": "52cabfa80fe7ac8d"
  },
  {
   "cell_type": "code",
   "execution_count": 32,
   "outputs": [
    {
     "data": {
      "text/plain": "126.5168134812962"
     },
     "execution_count": 32,
     "metadata": {},
     "output_type": "execute_result"
    }
   ],
   "source": [
    "from area import area\n",
    "area(building_properties[0]['geometry'])"
   ],
   "metadata": {
    "collapsed": false,
    "ExecuteTime": {
     "end_time": "2024-03-12T19:44:14.541603Z",
     "start_time": "2024-03-12T19:44:14.527468Z"
    }
   },
   "id": "fc22d7ff53ec008c"
  },
  {
   "cell_type": "code",
   "execution_count": 28,
   "outputs": [
    {
     "data": {
      "text/plain": "{'type': 'Feature',\n 'properties': {'OBJECTID': 1,\n  'PIN': '0001001',\n  'PINRELATE': '0001001',\n  'BLOCKLOT': '0001 001',\n  'BLOCK': '0001 ',\n  'LOT': '001 ',\n  'WARD': '15',\n  'SECTION': '370',\n  'ASSESSOR': '329',\n  'TAXBASE': 168600,\n  'BFCVLAND': 10200,\n  'BFCVIMPR': 151600,\n  'LANDEXMP': 0,\n  'IMPREXMP': 0,\n  'CITYCRED': 0,\n  'STATCRED': 0.0,\n  'CCREDAMT': 0.0,\n  'SCREDAMT': 0,\n  'PERMHOME': 'N',\n  'ASSESGRP': '2',\n  'LOT_SIZE': '15-2X83-10        ',\n  'NO_IMPRV': None,\n  'CURRLAND': 10200,\n  'CURRIMPR': 161800,\n  'EXMPLAND': 0,\n  'EXMPIMPR': 0,\n  'FULLCASH': 0,\n  'EXMPTYPE': ' ',\n  'EXMPCODE': '00',\n  'USEGROUP': 'C ',\n  'ZONECODE': 'C-1  ',\n  'SDATCODE': '11135',\n  'ARTAXBAS': 165200,\n  'DISTSWCH': ' ',\n  'DIST_ID': ' ',\n  'STATETAX': 185.02,\n  'CITY_TAX': 3713.7,\n  'AR_OWNER': 'N',\n  'DEEDBOOK': 'MB 25915',\n  'DEEDPAGE': '0340',\n  'SALEDATE': '05222023',\n  'OWNER_ABBR': None,\n  'OWNER_1': 'NORTH AVE MARKET LLC             ',\n  'OWNER_2': '                                 ',\n  'OWNER_3': '                                 ',\n  'FULLADDR': '2045 W NORTH AVE',\n  'STDIRPRE': 'W',\n  'ST_NAME': 'NORTH                    ',\n  'ST_TYPE': 'AVE ',\n  'BLDG_NO': 2045,\n  'FRACTION': ' ',\n  'UNIT_NUM': '      ',\n  'SPAN_NUM': 0,\n  'SPANFRAC': ' ',\n  'ZIP_CODE': '21217',\n  'EXTD_ZIP': '1221',\n  'DHCDUSE1': '3052',\n  'DHCDUSE2': '0000',\n  'DHCDUSE3': '0000',\n  'DHCDUSE4': '0000',\n  'DWELUNIT': 1,\n  'EFF_UNIT': 0,\n  'ROOMUNIT': 0,\n  'RPDELTAG': ' ',\n  'RESPAGCY': '  ',\n  'SALEPRIC': 250000,\n  'PROPDESC': '                         ',\n  'NEIGHBOR': 'EASTERWOOD                               ',\n  'SRVCCNTR': '7',\n  'YEAR_BUILD': 1920,\n  'STRUCTAREA': 4344,\n  'LDATE': '01282024',\n  'OWNMDE': 'F',\n  'GRNDRENT': 0,\n  'SUBTYPE_GEODB': 1,\n  'SDATLINK': 'http://sdat.dat.maryland.gov/realproperty/pages/viewdetails.aspx?County=03&SearchType=ACCT&Ward=15&SECTION=37&BLOCK=0001&LOT=001 ',\n  'BLOCKPLAT': 'https://gis.baltimorecity.gov/zoning/blockplats/0001.pdf',\n  'MAILTOADD': '1639 MORELAND AVE, 21216',\n  'VACIND': None},\n 'geometry': {'type': 'Polygon',\n  'coordinates': [[[-76.65112514437051, 39.30953817786565],\n    [-76.65118099358952, 39.30953634054415],\n    [-76.65116809403757, 39.309306393462606],\n    [-76.65110938192576, 39.309308333327664],\n    [-76.65112458415148, 39.30952994022336],\n    [-76.65112514437051, 39.30953817786565]]]}}"
     },
     "execution_count": 28,
     "metadata": {},
     "output_type": "execute_result"
    }
   ],
   "source": [
    "building_properties[0]"
   ],
   "metadata": {
    "collapsed": false,
    "ExecuteTime": {
     "end_time": "2024-03-12T19:36:20.967124Z",
     "start_time": "2024-03-12T19:36:20.951269Z"
    }
   },
   "id": "3f064cef3377b185"
  },
  {
   "cell_type": "code",
   "execution_count": 168,
   "outputs": [],
   "source": [
    "folium.Choropleth(\n",
    "    geo_data=state_geo,\n",
    "    name=\"choropleth\",\n",
    "    data=state_data,\n",
    "    columns=[\"State\", \"Unemployment\"],\n",
    "    key_on=\"feature.id\",\n",
    "    fill_color=\"YlGn\",\n",
    "    fill_opacity=0.7,\n",
    "    line_opacity=0.2,\n",
    "    legend_name=\"Unemployment Rate (%)\",\n",
    ").add_to(m)\n",
    "\n",
    "folium.LayerControl().add_to(m)"
   ],
   "metadata": {
    "collapsed": false,
    "ExecuteTime": {
     "end_time": "2024-02-01T01:40:44.232030Z",
     "start_time": "2024-02-01T01:40:44.219511Z"
    }
   },
   "id": "6dc1f05e6dbaa467"
  },
  {
   "cell_type": "code",
   "execution_count": 179,
   "outputs": [],
   "source": [
    "def save_map(data_geojson):\n",
    "    m = folium.Map((39.291372, -76.599692), tiles=\"cartodb positron\",zoom_start = 12)\n",
    "    folium.GeoJson(data_geojson, name=\"Baltimore City Map\").add_to(m)\n",
    "    folium.LayerControl().add_to(m)\n",
    "    m.save('map.html')"
   ],
   "metadata": {
    "collapsed": false,
    "ExecuteTime": {
     "end_time": "2024-02-01T19:44:46.623981Z",
     "start_time": "2024-02-01T19:44:46.617359Z"
    }
   },
   "id": "c2c14252e493d637"
  },
  {
   "cell_type": "code",
   "execution_count": 181,
   "outputs": [],
   "source": [
    "save_map(d)"
   ],
   "metadata": {
    "collapsed": false,
    "ExecuteTime": {
     "end_time": "2024-02-01T20:31:23.384695Z",
     "start_time": "2024-02-01T20:29:52.711170Z"
    }
   },
   "id": "fabca754d32b569e"
  },
  {
   "cell_type": "code",
   "execution_count": null,
   "outputs": [],
   "source": [],
   "metadata": {
    "collapsed": false
   },
   "id": "32b4c899afb038b1"
  }
 ],
 "metadata": {
  "kernelspec": {
   "display_name": "Python 3",
   "language": "python",
   "name": "python3"
  },
  "language_info": {
   "codemirror_mode": {
    "name": "ipython",
    "version": 2
   },
   "file_extension": ".py",
   "mimetype": "text/x-python",
   "name": "python",
   "nbconvert_exporter": "python",
   "pygments_lexer": "ipython2",
   "version": "2.7.6"
  }
 },
 "nbformat": 4,
 "nbformat_minor": 5
}
